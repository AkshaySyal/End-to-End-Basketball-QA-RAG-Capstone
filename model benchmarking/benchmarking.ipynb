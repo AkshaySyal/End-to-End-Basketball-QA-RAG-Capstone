{
  "cells": [
    {
      "cell_type": "code",
      "source": [
        "!pip install unsloth transformers peft accelerate bitsandbytes python-dotenv"
      ],
      "metadata": {
        "id": "yNMzMCTPsPDt"
      },
      "id": "yNMzMCTPsPDt",
      "execution_count": null,
      "outputs": []
    },
    {
      "cell_type": "code",
      "execution_count": 2,
      "id": "5b999e70-c079-4be4-bf94-f3492bcc0109",
      "metadata": {
        "id": "5b999e70-c079-4be4-bf94-f3492bcc0109",
        "outputId": "e23591ff-6d16-42ea-e3be-1a520e4c1796",
        "colab": {
          "base_uri": "https://localhost:8080/"
        }
      },
      "outputs": [
        {
          "output_type": "stream",
          "name": "stdout",
          "text": [
            "Mounted at /content/drive\n",
            "🦥 Unsloth: Will patch your computer to enable 2x faster free finetuning.\n",
            "🦥 Unsloth Zoo will now patch everything to make training faster!\n"
          ]
        }
      ],
      "source": [
        "import torch\n",
        "from google.colab import drive\n",
        "drive.mount('/content/drive')\n",
        "from unsloth import FastLanguageModel\n",
        "from peft import PeftModel\n",
        "from transformers import AutoTokenizer\n",
        "import torch\n",
        "import json\n",
        "import os\n",
        "import re\n",
        "import json\n",
        "import torch\n",
        "import sqlite3\n",
        "import pandas as pd\n",
        "from tqdm import tqdm\n",
        "import matplotlib.pyplot as plt\n",
        "from huggingface_hub import login\n",
        "# from dotenv import load_dotenv\n",
        "from transformers import AutoModelForCausalLM, AutoTokenizer, pipeline\n",
        "from dotenv import load_dotenv\n",
        "from transformers import TextStreamer"
      ]
    },
    {
      "cell_type": "code",
      "source": [
        "from google.colab import drive\n",
        "drive.mount('/content/drive', force_remount=True)"
      ],
      "metadata": {
        "id": "rGMttDp6vq2X",
        "outputId": "ae500e7b-866d-401e-b227-51946b6d6c76",
        "colab": {
          "base_uri": "https://localhost:8080/"
        }
      },
      "id": "rGMttDp6vq2X",
      "execution_count": 115,
      "outputs": [
        {
          "output_type": "stream",
          "name": "stdout",
          "text": [
            "Mounted at /content/drive\n"
          ]
        }
      ]
    },
    {
      "cell_type": "code",
      "execution_count": 5,
      "id": "dc611a90-ad64-491f-b36d-3b9bd3ed524d",
      "metadata": {
        "id": "dc611a90-ad64-491f-b36d-3b9bd3ed524d",
        "outputId": "5e9deebc-203f-4603-ecc8-d01942d3f37d",
        "colab": {
          "base_uri": "https://localhost:8080/"
        }
      },
      "outputs": [
        {
          "output_type": "stream",
          "name": "stdout",
          "text": [
            "True Tesla T4\n"
          ]
        }
      ],
      "source": [
        "print(torch.cuda.is_available(),torch.cuda.get_device_name())"
      ]
    },
    {
      "cell_type": "markdown",
      "id": "3458abb0-68ad-4a0b-ae5a-9c8728c15814",
      "metadata": {
        "id": "3458abb0-68ad-4a0b-ae5a-9c8728c15814"
      },
      "source": [
        "---"
      ]
    },
    {
      "cell_type": "code",
      "execution_count": null,
      "id": "0502c577-fbee-495f-9161-c728e7a7e539",
      "metadata": {
        "id": "0502c577-fbee-495f-9161-c728e7a7e539"
      },
      "outputs": [],
      "source": [
        "# HF token\n",
        "load_dotenv(dotenv_path=\"./env.txt\")\n",
        "\n",
        "# HF login\n",
        "login(token=os.getenv(\"HUGGINGFACE_TOKEN\", None))"
      ]
    },
    {
      "cell_type": "code",
      "execution_count": null,
      "id": "53bde22a-9f32-4646-9c53-a46779b19705",
      "metadata": {
        "id": "53bde22a-9f32-4646-9c53-a46779b19705"
      },
      "outputs": [],
      "source": [
        "class ModelLoader:\n",
        "    def __init__(self, model_name, model_path):\n",
        "        device = \"cuda\" if torch.cuda.is_available() else \"cpu\"\n",
        "        print(f\"Using device: {device}\")  # Check if running on GPU or CPU\n",
        "        self.tokenizer = AutoTokenizer.from_pretrained(model_path)\n",
        "        self.model = AutoModelForCausalLM.from_pretrained(\n",
        "            model_path,\n",
        "            torch_dtype=torch.float16 if device == \"cuda\" else torch.float32\n",
        "        ).to(device)\n",
        "        self.model.eval()\n",
        "        self.pipeline = pipeline(\n",
        "            \"text-generation\",\n",
        "            model=self.model,\n",
        "            tokenizer=self.tokenizer,\n",
        "            device=0 if device == \"cuda\" else -1,\n",
        "            truncation=True,\n",
        "            pad_token_id=self.tokenizer.eos_token_id,\n",
        "            temperature=0.5,\n",
        "            top_p=0.7,\n",
        "            max_length=512,\n",
        "            return_full_text=False\n",
        "        )"
      ]
    },
    {
      "cell_type": "code",
      "execution_count": null,
      "id": "5abde687-7f0d-451c-96e7-26f1f2f3e29f",
      "metadata": {
        "id": "5abde687-7f0d-451c-96e7-26f1f2f3e29f"
      },
      "outputs": [],
      "source": [
        "class SQLPromptBuilder:\n",
        "    def __init__(self, base_prompt):\n",
        "        self.base_prompt = base_prompt\n",
        "\n",
        "    def build_prompt(self, question, schema):\n",
        "        schema_str = \"\\n\".join([f\"{col}: {dtype}\" for col, dtype in schema.items()])\n",
        "        return (\n",
        "            f\"You are a data analyst bot working with a database. The table nba_roster has the following columns and metadata:\\n\\n\"\n",
        "            f\"Team: A string containing the team name (e.g., \\\"Atlanta Hawks\\\", \\\"Washington Wizards\\\").\\n\"\n",
        "            f\"NAME: A string containing the player's name (e.g., \\\"Saddiq Bey\\\", \\\"Corey Kispert\\\").\\n\"\n",
        "            f\"Jersey: A string containing the player's jersey number (e.g., \\\"1\\\", \\\"55\\\").\\n\"\n",
        "            f\"POS: A string containing the player's position (e.g., \\\"SF\\\", \\\"SG\\\", \\\"G\\\").\\n\"\n",
        "            f\"AGE: An integer containing the player's age (e.g., 23, 31).\\n\"\n",
        "            f\"HT: A string containing the player's height in feet and inches (e.g., \\\"6'6\\\", \\\"6'2\\\").\\n\"\n",
        "            f\"WT: A string containing the player's weight in pounds (e.g., \\\"180 lbs\\\", \\\"185 lbs\\\").\\n\"\n",
        "            f\"COLLEGE: A string containing the player's college name (e.g., \\\"Utah\\\", \\\"Toledo\\\").\\n\"\n",
        "            f\"SALARY: A string containing the player's salary, formatted with a dollar sign (e.g., \\\"$8,195,122\\\", \\\"$1,719,864\\\").\\n\\n\"\n",
        "            f\"You must generate a response that is ONLY a JSON object. The JSON object must have exactly two keys: \\\"question\\\" and \\\"sql\\\".\\n\"\n",
        "            f\"DO NOT include any extra text, explanations, or commentary outside the JSON object. The JSON must begin with '{{' and end with '}}' and nothing else.\\n\\n\"\n",
        "            f\"The output of your response is directly fed to another system, and no human is reading it. Providing anything other than JSON will cause the other system to crash.\"\n",
        "            f\"Format your response as follows:\\n\"\n",
        "            f\"{{\\n\"\n",
        "            f\"  \\\"question\\\": \\\"<The given question>\\\",\\n\"\n",
        "            f\"  \\\"sql\\\": \\\"<The SQL query>\\\"\\n\"\n",
        "            f\"}}\\n\\n\"\n",
        "            f\"Example:\\n\"\n",
        "            f\"Question: What are all the rows of the table in the database?\\n\"\n",
        "            f\"Response:\\n\"\n",
        "            f\"{{\\n\"\n",
        "            f\"  \\\"question\\\": \\\"What are all the rows of the table in the database?\\\",\\n\"\n",
        "            f\"  \\\"sql\\\": \\\"SELECT * FROM nba_roster;\\\"\\n\"\n",
        "            f\"}}\\n\\n\"\n",
        "            f\"REMEMBER: DO NOT YAP. DO NOT PROVIDE ANYTHING OTHER THAN THE JSON.\"\n",
        "            f\"Now, answer the following question:\\n\"\n",
        "            f\"Question: {question}\"\n",
        "        )"
      ]
    },
    {
      "cell_type": "code",
      "execution_count": null,
      "id": "3a595689-6e4d-4939-b7b2-792b69e49dfa",
      "metadata": {
        "id": "3a595689-6e4d-4939-b7b2-792b69e49dfa"
      },
      "outputs": [],
      "source": [
        "class SQLQueryGenerator:\n",
        "    def __init__(self, model_loader, prompt_builder):\n",
        "        self.model_loader = model_loader\n",
        "        self.prompt_builder = prompt_builder\n",
        "\n",
        "    def generate_response(self, question, schema):\n",
        "        prompt = self.prompt_builder.build_prompt(question, schema)\n",
        "        with torch.no_grad():\n",
        "            response = self.model_loader.pipeline(prompt, num_return_sequences=1)\n",
        "        raw_output = response[0][\"generated_text\"]\n",
        "        print(raw_output)\n",
        "\n",
        "        return self.extract_json(raw_output)\n",
        "\n",
        "    @staticmethod\n",
        "    def extract_json(output):\n",
        "        try:\n",
        "            start = output.index(\"{\")\n",
        "            end = output.rindex(\"}\") + 1\n",
        "            return json.loads(output[start:end])\n",
        "        except (ValueError, json.JSONDecodeError):\n",
        "            return {\"error\": \"Failed to extract valid JSON\"}"
      ]
    },
    {
      "cell_type": "code",
      "execution_count": null,
      "id": "c7252fac-8634-4535-8c73-346c770b1c9b",
      "metadata": {
        "id": "c7252fac-8634-4535-8c73-346c770b1c9b"
      },
      "outputs": [],
      "source": [
        "class SQLExecutor:\n",
        "    def __init__(self, db_connection):\n",
        "        self.db_connection = db_connection\n",
        "\n",
        "    def execute(self, sql):\n",
        "        try:\n",
        "            query_result = pd.read_sql_query(sql, self.db_connection)\n",
        "            return query_result\n",
        "        except Exception as e:\n",
        "            return f\"Error: {e}\""
      ]
    },
    {
      "cell_type": "code",
      "execution_count": null,
      "id": "4beb82eb-8628-47bf-ad78-7aaa209b0f6e",
      "metadata": {
        "id": "4beb82eb-8628-47bf-ad78-7aaa209b0f6e"
      },
      "outputs": [],
      "source": [
        "class SQLQueryPipeline:\n",
        "    def __init__(self, db_connection, base_prompt, questions_file):\n",
        "        self.db_connection = db_connection\n",
        "        self.models = {}\n",
        "        self.prompt_builder = SQLPromptBuilder(base_prompt)\n",
        "        self.questions_file = questions_file\n",
        "        self.sql_executor = SQLExecutor(db_connection)\n",
        "\n",
        "    def add_model(self, model_name, model_path):\n",
        "        self.models[model_name] = ModelLoader(model_name, model_path)\n",
        "\n",
        "    def load_questions(self):\n",
        "        with open(self.questions_file, \"r\") as f:\n",
        "            return [json.loads(line) for line in f]\n",
        "\n",
        "    def get_schema(self):\n",
        "        query = \"PRAGMA table_info(nba_roster);\"\n",
        "        schema_info = pd.read_sql_query(query, self.db_connection)\n",
        "        schema = {row[\"name\"]: row[\"type\"] for _, row in schema_info.iterrows()}\n",
        "        return schema\n",
        "\n",
        "    def run_pipeline(self):\n",
        "        questions = self.load_questions()\n",
        "        accuracy_scores = {model_name: {'syntax': 0, 'semantics': 0} for model_name in self.models}\n",
        "        total_questions = len(questions)\n",
        "        results = {model_name: [] for model_name in self.models}\n",
        "        schema = self.get_schema() ## I DONT UNDERSTAND\n",
        "\n",
        "        for model_name, model_loader in self.models.items():\n",
        "            # Force clear the cache\n",
        "            torch.cuda.empty_cache()\n",
        "            generator = SQLQueryGenerator(model_loader, self.prompt_builder)\n",
        "            for question_data in tqdm(questions, desc=f\"Processing questions for {model_name}\"):\n",
        "                question = question_data[\"question\"]\n",
        "                ground_truth_sql = question_data[\"sql\"]\n",
        "\n",
        "                # Get the expected result\n",
        "                expected_result = self.sql_executor.execute(ground_truth_sql)\n",
        "\n",
        "                # Generate the SQL query\n",
        "                response = generator.generate_response(question, schema)\n",
        "                sql_query = response.get(\"sql\", \"\")\n",
        "                generated_result = None\n",
        "\n",
        "                # Check for syntax correctness by attempting to execute the query\n",
        "                syntax_correct = self.execute_sql_without_error(sql_query)\n",
        "\n",
        "                if syntax_correct:\n",
        "                    generated_result = self.sql_executor.execute(sql_query)\n",
        "\n",
        "                # Compare for semantics correctness\n",
        "                semantics_correct = self.compare_results(expected_result, generated_result) if syntax_correct else False\n",
        "\n",
        "                # Update accuracy scores\n",
        "                accuracy_scores[model_name]['syntax'] += int(syntax_correct)\n",
        "                accuracy_scores[model_name]['semantics'] += int(semantics_correct)\n",
        "\n",
        "                # Save the results\n",
        "                results[model_name].append({\n",
        "                    \"question\": question,\n",
        "                    \"generated_sql\": sql_query,\n",
        "                    \"expected_sql\": ground_truth_sql,\n",
        "                    \"generated_result\": generated_result,\n",
        "                    \"expected_result\": expected_result,\n",
        "                    \"syntax_correct\": syntax_correct,\n",
        "                    \"semantics_correct\": semantics_correct\n",
        "                })\n",
        "\n",
        "        # Calculate accuracy percentages\n",
        "        accuracy_scores = {\n",
        "            model: {\n",
        "                'syntax': (score['syntax'] / total_questions) * 100,\n",
        "                'semantics': (score['semantics'] / total_questions) * 100\n",
        "            }\n",
        "            for model, score in accuracy_scores.items()\n",
        "        }\n",
        "\n",
        "        # Save results to CSV files\n",
        "        for model_name, result_data in results.items():\n",
        "            result_df = pd.DataFrame(result_data)\n",
        "            result_df.to_csv(f\"{model_name}_results.csv\", index=False)\n",
        "\n",
        "        # Plot accuracy results\n",
        "        self.plot_accuracy(accuracy_scores)\n",
        "        return accuracy_scores\n",
        "\n",
        "    def execute_sql_without_error(self, sql):\n",
        "        try:\n",
        "            # We execute the query directly on the database\n",
        "            pd.read_sql_query(sql, self.db_connection)\n",
        "            return True  # No error\n",
        "        except Exception:\n",
        "            return False  # Error executing query\n",
        "\n",
        "    def compare_results(self, expected_result, generated_result):\n",
        "        # Compare results for correctness (could be enhanced to check for specific data frame results)\n",
        "        return expected_result.equals(generated_result)\n",
        "\n",
        "    def plot_accuracy(self, accuracy_scores):\n",
        "        fig, ax = plt.subplots(figsize=(10, 6))\n",
        "\n",
        "        # Plotting the syntax and semantics accuracy\n",
        "        models = list(accuracy_scores.keys())\n",
        "        syntax_accuracies = [score['syntax'] for score in accuracy_scores.values()]\n",
        "        semantics_accuracies = [score['semantics'] for score in accuracy_scores.values()]\n",
        "\n",
        "        bar_width = 0.35\n",
        "        index = range(len(models))\n",
        "\n",
        "        ax.bar(index, syntax_accuracies, bar_width, label='Syntax Accuracy', color='blue')\n",
        "        ax.bar([i + bar_width for i in index], semantics_accuracies, bar_width, label='Semantics Accuracy', color='green')\n",
        "\n",
        "        ax.set_xlabel('Models')\n",
        "        ax.set_ylabel('Accuracy (%)')\n",
        "        ax.set_title('SQL Query Accuracy by Syntax and Semantics Across Models')\n",
        "        ax.set_xticks([i + bar_width / 2 for i in index])\n",
        "        ax.set_xticklabels(models)\n",
        "        ax.legend()\n",
        "\n",
        "        plt.tight_layout()\n",
        "        plt.show()"
      ]
    },
    {
      "cell_type": "code",
      "execution_count": null,
      "id": "64a5015b-35bd-471c-96c3-731938705bb2",
      "metadata": {
        "id": "64a5015b-35bd-471c-96c3-731938705bb2"
      },
      "outputs": [],
      "source": [
        "database_path = os.path.join(os.getcwd(), 'nba_roster_super_cleaned.db') ## I DONT UNDERSTAND\n",
        "db_connection = sqlite3.connect(database_path)"
      ]
    },
    {
      "cell_type": "code",
      "execution_count": null,
      "id": "f7569653-4f1a-4a7a-98f2-ee300ccc5ecd",
      "metadata": {
        "id": "f7569653-4f1a-4a7a-98f2-ee300ccc5ecd"
      },
      "outputs": [],
      "source": [
        "base_prompt = \"You are a data analyst working with a database.\"\n",
        "questions_file = os.path.join(os.getcwd(), 'gold-test-set-v2.jsonl') ## I DONT UNDERSTAND"
      ]
    },
    {
      "cell_type": "code",
      "execution_count": null,
      "id": "3d0f1abe-c403-4b4a-bed9-d740535dc3f5",
      "metadata": {
        "id": "3d0f1abe-c403-4b4a-bed9-d740535dc3f5"
      },
      "outputs": [],
      "source": [
        "pipeline_obj = SQLQueryPipeline(db_connection, base_prompt, questions_file)"
      ]
    },
    {
      "cell_type": "code",
      "execution_count": null,
      "id": "d6b0ad5d-eb87-4120-8ed2-a79c63879644",
      "metadata": {
        "id": "d6b0ad5d-eb87-4120-8ed2-a79c63879644",
        "outputId": "4eb98599-be37-4c59-a394-1c035eebc6de"
      },
      "outputs": [
        {
          "name": "stdout",
          "output_type": "stream",
          "text": [
            "Using device: cuda\n"
          ]
        },
        {
          "name": "stderr",
          "output_type": "stream",
          "text": [
            "Device set to use cuda:0\n"
          ]
        }
      ],
      "source": [
        "pipeline_obj.add_model(\"llama 3.2 1B-instruct\", \"meta-llama/Llama-3.2-1B-instruct\")"
      ]
    },
    {
      "cell_type": "code",
      "execution_count": null,
      "id": "3ed9231a-b633-4860-aeca-d14c851b96a7",
      "metadata": {
        "id": "3ed9231a-b633-4860-aeca-d14c851b96a7"
      },
      "outputs": [],
      "source": [
        "# pipeline_obj.add_model(\"llama 3.2 3B-instruct\", \"meta-llama/Llama-3.2-3B-instruct\")"
      ]
    },
    {
      "cell_type": "code",
      "execution_count": null,
      "id": "1522731c-28f5-4953-b2d9-7390c04596dd",
      "metadata": {
        "id": "1522731c-28f5-4953-b2d9-7390c04596dd"
      },
      "outputs": [],
      "source": [
        "# accuracy_scores = pipeline_obj.run_pipeline()\n",
        "# print(\"Model Accuracy Scores:\", accuracy_scores)"
      ]
    },
    {
      "cell_type": "code",
      "execution_count": null,
      "id": "7822ba1a-eec2-46df-b61b-5914b15fb1bc",
      "metadata": {
        "id": "7822ba1a-eec2-46df-b61b-5914b15fb1bc",
        "outputId": "fb57d7ab-35d3-4503-80e5-8ba18b30fa14",
        "colab": {
          "referenced_widgets": [
            "b1dae55269c140239619e42ee3a2b1fd"
          ]
        }
      },
      "outputs": [
        {
          "name": "stdout",
          "output_type": "stream",
          "text": [
            "Using device: cuda\n"
          ]
        },
        {
          "data": {
            "application/vnd.jupyter.widget-view+json": {
              "model_id": "b1dae55269c140239619e42ee3a2b1fd",
              "version_major": 2,
              "version_minor": 0
            },
            "text/plain": [
              "Loading checkpoint shards:   0%|          | 0/2 [00:00<?, ?it/s]"
            ]
          },
          "metadata": {},
          "output_type": "display_data"
        },
        {
          "name": "stderr",
          "output_type": "stream",
          "text": [
            "Device set to use cuda:0\n"
          ]
        }
      ],
      "source": [
        "pipeline_obj.add_model(\"llama 3.2 3B-instruct\", \"meta-llama/Llama-3.2-3B-instruct\")"
      ]
    },
    {
      "cell_type": "code",
      "execution_count": null,
      "id": "ecdb01bc-95be-464c-bcfd-78cce99ccbc5",
      "metadata": {
        "scrolled": true,
        "id": "ecdb01bc-95be-464c-bcfd-78cce99ccbc5",
        "outputId": "554caf4d-09dd-4e49-b3a8-53906bf7aaff"
      },
      "outputs": [
        {
          "name": "stderr",
          "output_type": "stream",
          "text": [
            "Processing questions for llama 3.2 1B-instruct:   2%|▎         | 1/40 [00:00<00:38,  1.02it/s]"
          ]
        },
        {
          "name": "stdout",
          "output_type": "stream",
          "text": [
            " \n",
            "Response:\n",
            "{\n",
            "  \"question\": \"Who is the pointguard for the Golden State Warriors?\",\n",
            "  \"sql\": \"SELECT NAME, COLLEGE, HT, WT, AGE, SALARY FROM nba_roster WHERE POS = 'PG'\"\n",
            "}\n"
          ]
        },
        {
          "name": "stderr",
          "output_type": "stream",
          "text": [
            "Processing questions for llama 3.2 1B-instruct:   5%|▌         | 2/40 [00:01<00:33,  1.15it/s]"
          ]
        },
        {
          "name": "stdout",
          "output_type": "stream",
          "text": [
            "?\n",
            "Response:\n",
            "{\n",
            "  \"question\": \"What is the number of players on the Chicago Bulls who are 25 years old or younger?\",\n",
            "  \"sql\": \"SELECT COUNT(*) FROM nba_roster WHERE AGE < 25 AND TEAM = 'Chicago Bulls';\"\n",
            "}\n"
          ]
        },
        {
          "name": "stderr",
          "output_type": "stream",
          "text": [
            "Processing questions for llama 3.2 1B-instruct:   8%|▊         | 3/40 [00:02<00:30,  1.21it/s]"
          ]
        },
        {
          "name": "stdout",
          "output_type": "stream",
          "text": [
            "?\n",
            "Response:\n",
            "{\n",
            "  \"question\": \"Who is the highest-paid player on the Los Angeles Lakers?\",\n",
            "  \"sql\": \"SELECT * FROM nba_roster WHERE TEAM = 'Los Angeles Lakers' AND SALARY = '$1,719,864'\"\n",
            "}\n"
          ]
        },
        {
          "name": "stderr",
          "output_type": "stream",
          "text": [
            "Processing questions for llama 3.2 1B-instruct:  10%|█         | 4/40 [00:03<00:27,  1.30it/s]"
          ]
        },
        {
          "name": "stdout",
          "output_type": "stream",
          "text": [
            " \n",
            "Response:\n",
            "{\n",
            "  \"question\": \"Who is the highest paid player in the NBA?\",\n",
            "  \"sql\": \"SELECT * FROM nba_roster WHERE SALARY = (SELECT MAX(SALARY) FROM nba_roster)\"\n",
            "}\n"
          ]
        },
        {
          "name": "stderr",
          "output_type": "stream",
          "text": [
            "Processing questions for llama 3.2 1B-instruct:  12%|█▎        | 5/40 [00:04<00:28,  1.23it/s]"
          ]
        },
        {
          "name": "stdout",
          "output_type": "stream",
          "text": [
            "Question: LaMelo Ball is on the Charlotte HornetsQuestion: What is LaMelo Ball's jersey number?Question: LaMelo Ball's jersey number is 2Question: What is LaMelo Ball's position?Question: LaMelo Ball's position is point guardQuestion: What is LaMelo Ball's\n"
          ]
        },
        {
          "name": "stderr",
          "output_type": "stream",
          "text": [
            "Processing questions for llama 3.2 1B-instruct:  15%|█▌        | 6/40 [00:04<00:24,  1.36it/s]"
          ]
        },
        {
          "name": "stdout",
          "output_type": "stream",
          "text": [
            " \n",
            "Response:\n",
            "{\n",
            "  \"question\": \"How much does Lonzo Ball weigh?\",\n",
            "  \"sql\": \"SELECT WT FROM nba_roster WHERE NAME = 'Lonzo Ball';\" }\n",
            "\n"
          ]
        },
        {
          "name": "stderr",
          "output_type": "stream",
          "text": [
            "Processing questions for llama 3.2 1B-instruct:  20%|██        | 8/40 [00:05<00:16,  1.89it/s]"
          ]
        },
        {
          "name": "stdout",
          "output_type": "stream",
          "text": [
            " \n",
            "Response:\n",
            "{\n",
            "  \"question\": \"How old is Lebron James?\",\n",
            "  \"sql\": \"SELECT AGE FROM nba_roster WHERE NAME = 'Lebron James';\"\n",
            "}\n"
          ]
        },
        {
          "name": "stderr",
          "output_type": "stream",
          "text": [
            "Processing questions for llama 3.2 1B-instruct:  22%|██▎       | 9/40 [00:06<00:18,  1.65it/s]"
          ]
        },
        {
          "name": "stdout",
          "output_type": "stream",
          "text": [
            " \n",
            "Response:\n",
            "{\n",
            "  \"question\": \"What is the most popular jersey number in the current NBA?\",\n",
            "  \"sql\": \"SELECT jersey FROM nba_roster WHERE jersey = (SELECT MAX(jersey) FROM nba_roster) ORDER BY COUNT(*) DESC LIMIT 1;\"\n",
            "}\n"
          ]
        },
        {
          "name": "stderr",
          "output_type": "stream",
          "text": [
            "You seem to be using the pipelines sequentially on GPU. In order to maximize efficiency please use a dataset\n"
          ]
        },
        {
          "name": "stdout",
          "output_type": "stream",
          "text": [
            " \n",
            "Response:\n",
            "{\n",
            "  \"question\": \"Can you give me a list of all the players without college data?\",\n",
            "  \"sql\": \"SELECT * FROM nba_roster WHERE COLLEGE IS NULL;\"\n",
            "}\n"
          ]
        },
        {
          "name": "stderr",
          "output_type": "stream",
          "text": [
            "Processing questions for llama 3.2 1B-instruct:  28%|██▊       | 11/40 [00:07<00:17,  1.68it/s]"
          ]
        },
        {
          "name": "stdout",
          "output_type": "stream",
          "text": [
            " \n",
            "Response:\n",
            "{\n",
            "  \"question\": \"What team has the smallest roster?\",\n",
            "  \"sql\": \"SELECT Team FROM nba_roster ORDER BY COUNT(*) ASC LIMIT 1;\"}\n"
          ]
        },
        {
          "name": "stderr",
          "output_type": "stream",
          "text": [
            "Processing questions for llama 3.2 1B-instruct:  30%|███       | 12/40 [00:08<00:19,  1.44it/s]"
          ]
        },
        {
          "name": "stdout",
          "output_type": "stream",
          "text": [
            " (i.e., the team with the most players)\n",
            "Response:\n",
            "{\n",
            "  \"question\": \"What team has the largest roster? (i.e., the team with the most players)\",\n",
            "  \"sql\": \"SELECT Team, COUNT(*) FROM nba_roster GROUP BY Team ORDER BY COUNT(*) DESC LIMIT 1;\"}\n"
          ]
        },
        {
          "name": "stderr",
          "output_type": "stream",
          "text": [
            "Processing questions for llama 3.2 1B-instruct:  32%|███▎      | 13/40 [00:09<00:19,  1.38it/s]"
          ]
        },
        {
          "name": "stdout",
          "output_type": "stream",
          "text": [
            " \n",
            "\n",
            "Response:\n",
            "{\n",
            "  \"question\": \"What team is paying its players the most in total?\",\n",
            "  \"sql\": \"SELECT Team, SUM(SALARY) FROM nba_roster GROUP BY Team ORDER BY SUM(SALARY) DESC LIMIT 1;\"\n",
            "}\n"
          ]
        },
        {
          "name": "stderr",
          "output_type": "stream",
          "text": [
            "Processing questions for llama 3.2 1B-instruct:  35%|███▌      | 14/40 [00:09<00:18,  1.38it/s]"
          ]
        },
        {
          "name": "stdout",
          "output_type": "stream",
          "text": [
            " \n",
            "\n",
            "Response:\n",
            "{\n",
            "  \"question\": \"Which team is paying its players the least?\",\n",
            "  \"sql\": \"SELECT Team, SALARY FROM nba_roster GROUP BY Team ORDER BY SUM(SALARY) ASC LIMIT 1;\"}\n"
          ]
        },
        {
          "name": "stderr",
          "output_type": "stream",
          "text": [
            "Processing questions for llama 3.2 1B-instruct:  38%|███▊      | 15/40 [00:10<00:19,  1.29it/s]"
          ]
        },
        {
          "name": "stdout",
          "output_type": "stream",
          "text": [
            " The team with the highest average height is which team?\n",
            "Response:\n",
            "{\n",
            "  \"question\": \"Which team is on average the tallest? The team with the highest average height is which team?\",\n",
            "  \"sql\": \"SELECT AVG(HT) FROM nba_roster GROUP BY TEAM ORDER BY AVG(HT) DESC LIMIT 1;\"\n"
          ]
        },
        {
          "name": "stderr",
          "output_type": "stream",
          "text": [
            "Processing questions for llama 3.2 1B-instruct:  40%|████      | 16/40 [00:11<00:17,  1.40it/s]"
          ]
        },
        {
          "name": "stdout",
          "output_type": "stream",
          "text": [
            " \n",
            "\n",
            "Response:\n",
            "{\n",
            "  \"question\": \"Which team is on average the shortest?\",\n",
            "  \"sql\": \"SELECT AVG(HT) FROM nba_roster WHERE POS = 'SF'\"\n",
            "}\n"
          ]
        },
        {
          "name": "stderr",
          "output_type": "stream",
          "text": [
            "Processing questions for llama 3.2 1B-instruct:  42%|████▎     | 17/40 [00:11<00:15,  1.48it/s]"
          ]
        },
        {
          "name": "stdout",
          "output_type": "stream",
          "text": [
            " \n",
            "\n",
            "Response:\n",
            "{\n",
            "  \"question\": \"Who are the tallest 5 centers in the league?\",\n",
            "  \"sql\": \"SELECT * FROM nba_roster WHERE POS = 'C'\"\n",
            "}\n"
          ]
        },
        {
          "name": "stderr",
          "output_type": "stream",
          "text": [
            "Processing questions for llama 3.2 1B-instruct:  45%|████▌     | 18/40 [00:12<00:15,  1.42it/s]"
          ]
        },
        {
          "name": "stdout",
          "output_type": "stream",
          "text": [
            " \n",
            "Response:\n",
            "{\n",
            "  \"question\": \"Who are the top 5 highest paid power forwards in the league?\",\n",
            "  \"sql\": \"SELECT NAME, SALARY FROM nba_roster WHERE POS = 'PF' ORDER BY SALARY DESC LIMIT 5;\"\n",
            "}\n"
          ]
        },
        {
          "name": "stderr",
          "output_type": "stream",
          "text": [
            "Processing questions for llama 3.2 1B-instruct:  48%|████▊     | 19/40 [00:13<00:13,  1.53it/s]"
          ]
        },
        {
          "name": "stdout",
          "output_type": "stream",
          "text": [
            " \n",
            "Response:\n",
            "{\n",
            "  \"question\": \"What is the median salary in the NBA?\",\n",
            "  \"sql\": \"SELECT AVG(SALARY) FROM nba_roster;\"\n",
            "}\n"
          ]
        },
        {
          "name": "stderr",
          "output_type": "stream",
          "text": [
            "Processing questions for llama 3.2 1B-instruct:  50%|█████     | 20/40 [00:13<00:12,  1.62it/s]"
          ]
        },
        {
          "name": "stdout",
          "output_type": "stream",
          "text": [
            " \n",
            "Response:\n",
            "{\n",
            "  \"question\": \"What is the average salary in the NBA?\",\n",
            "  \"sql\": \"SELECT AVG(SALARY) FROM nba_roster;\"\n",
            "}\n"
          ]
        },
        {
          "name": "stderr",
          "output_type": "stream",
          "text": [
            "Processing questions for llama 3.2 1B-instruct:  52%|█████▎    | 21/40 [00:14<00:11,  1.60it/s]"
          ]
        },
        {
          "name": "stdout",
          "output_type": "stream",
          "text": [
            " \n",
            "Response:\n",
            "{\n",
            "  \"question\": \"What is the 99th percentile salary in the NBA?\",\n",
            "  \"sql\": \"SELECT SALARY FROM nba_roster ORDER BY SALARY DESC LIMIT 99;\"}\n"
          ]
        },
        {
          "name": "stderr",
          "output_type": "stream",
          "text": [
            "Processing questions for llama 3.2 1B-instruct:  55%|█████▌    | 22/40 [00:15<00:12,  1.48it/s]"
          ]
        },
        {
          "name": "stdout",
          "output_type": "stream",
          "text": [
            " \n",
            "Response:\n",
            "{\n",
            "  \"question\": \"What is the 75th percentile salary in the NBA?\",\n",
            "  \"sql\": \"SELECT AVG(SALARY) FROM nba_roster WHERE SALARY > (SELECT AVG(SALARY) FROM nba_roster)\"\n",
            "}\n"
          ]
        },
        {
          "name": "stderr",
          "output_type": "stream",
          "text": [
            "Processing questions for llama 3.2 1B-instruct:  57%|█████▊    | 23/40 [00:15<00:11,  1.50it/s]"
          ]
        },
        {
          "name": "stdout",
          "output_type": "stream",
          "text": [
            " Response:\n",
            "{\n",
            "  \"question\": \"What is the 25th percentile salary in the NBA?\",\n",
            "  \"sql\": \"SELECT AVG(SALARY) FROM nba_roster ORDER BY SALARY DESC LIMIT 1;\"}\n"
          ]
        },
        {
          "name": "stderr",
          "output_type": "stream",
          "text": [
            "Processing questions for llama 3.2 1B-instruct:  60%|██████    | 24/40 [00:16<00:09,  1.61it/s]"
          ]
        },
        {
          "name": "stdout",
          "output_type": "stream",
          "text": [
            " \n",
            "Response:\n",
            "{\n",
            "  \"question\": \"What is the median weight in the NBA?\",\n",
            "  \"sql\": \"SELECT AVG(WT) FROM nba_roster;\"\n",
            "}\n"
          ]
        },
        {
          "name": "stderr",
          "output_type": "stream",
          "text": [
            "Processing questions for llama 3.2 1B-instruct:  62%|██████▎   | 25/40 [00:16<00:08,  1.76it/s]"
          ]
        },
        {
          "name": "stdout",
          "output_type": "stream",
          "text": [
            " \n",
            "Response:\n",
            "{\n",
            "  \"question\": \"What is the average weight in the NBA?\",\n",
            "  \"sql\": \"AVG(WT) OVER ()\"\n",
            "}\n"
          ]
        },
        {
          "name": "stderr",
          "output_type": "stream",
          "text": [
            "Processing questions for llama 3.2 1B-instruct:  65%|██████▌   | 26/40 [00:17<00:07,  1.82it/s]"
          ]
        },
        {
          "name": "stdout",
          "output_type": "stream",
          "text": [
            " \n",
            "Response:\n",
            "{\n",
            "  \"question\": \"What is the median height in the NBA?\",\n",
            "  \"sql\": \"SELECT AVG(HT) FROM nba_roster;\"\n",
            "}\n"
          ]
        },
        {
          "name": "stderr",
          "output_type": "stream",
          "text": [
            "Processing questions for llama 3.2 1B-instruct:  68%|██████▊   | 27/40 [00:17<00:06,  1.93it/s]"
          ]
        },
        {
          "name": "stdout",
          "output_type": "stream",
          "text": [
            " \n",
            "Response:\n",
            "{\n",
            "  \"question\": \"What is the average height in the NBA?\",\n",
            "  \"sql\": \"AVG(HT) OVER ()\"\n",
            "}\n"
          ]
        },
        {
          "name": "stderr",
          "output_type": "stream",
          "text": [
            "Processing questions for llama 3.2 1B-instruct:  70%|███████   | 28/40 [00:18<00:06,  1.87it/s]"
          ]
        },
        {
          "name": "stdout",
          "output_type": "stream",
          "text": [
            " \n",
            "Response:\n",
            "{\n",
            "  \"question\": \"Can you tell me how many players are in the NBA?\",\n",
            "  \"sql\": \"SELECT COUNT(*) FROM nba_roster;\"\n",
            "}\n"
          ]
        },
        {
          "name": "stderr",
          "output_type": "stream",
          "text": [
            "Processing questions for llama 3.2 1B-instruct:  72%|███████▎  | 29/40 [00:18<00:05,  2.05it/s]"
          ]
        },
        {
          "name": "stdout",
          "output_type": "stream",
          "text": [
            " \n",
            "\n",
            "SQL: SELECT * FROM nba_roster WHERE POS = 'SF' ORDER BY SALARY DESC LIMIT 10;\n"
          ]
        },
        {
          "name": "stderr",
          "output_type": "stream",
          "text": [
            "Processing questions for llama 3.2 1B-instruct:  75%|███████▌  | 30/40 [00:19<00:05,  1.95it/s]"
          ]
        },
        {
          "name": "stdout",
          "output_type": "stream",
          "text": [
            " \n",
            "Response:\n",
            "{\n",
            "  \"question\": \"Is Jalen Johnson 23 years old?\",\n",
            "  \"sql\": \"SELECT AGE FROM nba_roster WHERE NAME = 'Jalen Johnson';\"\n",
            "}\n"
          ]
        },
        {
          "name": "stderr",
          "output_type": "stream",
          "text": [
            "Processing questions for llama 3.2 1B-instruct:  78%|███████▊  | 31/40 [00:19<00:05,  1.74it/s]"
          ]
        },
        {
          "name": "stdout",
          "output_type": "stream",
          "text": [
            " \n",
            "Response:\n",
            "{\n",
            "  \"question\": \"Who is the oldest player on the Brooklyn Nets?\",\n",
            "  \"sql\": \"SELECT NAME, AGE FROM nba_roster WHERE TEAM = 'Brooklyn Nets' ORDER BY AGE DESC LIMIT 1;\"\n",
            "}\n"
          ]
        },
        {
          "name": "stderr",
          "output_type": "stream",
          "text": [
            "Processing questions for llama 3.2 1B-instruct:  80%|████████  | 32/40 [00:20<00:04,  1.70it/s]"
          ]
        },
        {
          "name": "stdout",
          "output_type": "stream",
          "text": [
            " \n",
            "\n",
            "Response:\n",
            "{\n",
            "  \"question\": \"Who has the highest salary on the Memphis Grizzlies?\",\n",
            "  \"sql\": \"SELECT * FROM nba_roster WHERE team = 'Memphis Grizzlies';\" }\n"
          ]
        },
        {
          "name": "stderr",
          "output_type": "stream",
          "text": [
            "Processing questions for llama 3.2 1B-instruct:  82%|████████▎ | 33/40 [00:21<00:04,  1.50it/s]"
          ]
        },
        {
          "name": "stdout",
          "output_type": "stream",
          "text": [
            " \n",
            "\n",
            "Response:\n",
            "{\n",
            "  \"question\": \"Which player has the highest salary on the Cleveland Cavaliers?\",\n",
            "  \"sql\": \"SELECT * FROM nba_roster WHERE Team = 'Cleveland Cavaliers' AND SALARY = (SELECT MAX(SALARY) FROM nba_roster WHERE Team = 'Cleveland Cavaliers\n"
          ]
        },
        {
          "name": "stderr",
          "output_type": "stream",
          "text": [
            "Processing questions for llama 3.2 1B-instruct:  85%|████████▌ | 34/40 [00:22<00:04,  1.44it/s]"
          ]
        },
        {
          "name": "stdout",
          "output_type": "stream",
          "text": [
            " \n",
            "\n",
            "Response:\n",
            "{\n",
            "  \"question\": \"Who is the highest paid center on the Dallas Mavericks?\",\n",
            "  \"sql\": \"SELECT * FROM nba_roster WHERE COLLEGE = 'Dallas Mavericks' AND SALARY = '$1,719,864'\"\n",
            "}\n"
          ]
        },
        {
          "name": "stderr",
          "output_type": "stream",
          "text": [
            "Processing questions for llama 3.2 1B-instruct:  88%|████████▊ | 35/40 [00:22<00:03,  1.51it/s]"
          ]
        },
        {
          "name": "stdout",
          "output_type": "stream",
          "text": [
            " \n",
            "Response:\n",
            "{\n",
            "  \"question\": \"How much is Marcus Smart getting paid?\",\n",
            "  \"sql\": \"SELECT SALARY FROM nba_roster WHERE NAME = 'Marcus Smart';\" }\n"
          ]
        },
        {
          "name": "stderr",
          "output_type": "stream",
          "text": [
            "Processing questions for llama 3.2 1B-instruct:  90%|█████████ | 36/40 [00:23<00:02,  1.54it/s]"
          ]
        },
        {
          "name": "stdout",
          "output_type": "stream",
          "text": [
            " \n",
            "Response:\n",
            "{\n",
            "  \"question\": \"What's the average age of the Trail Blazers?\",\n",
            "  \"sql\": \"SELECT AVG(AGE) FROM nba_roster WHERE TEAM = 'Trail Blazers';\"\n",
            "}\n"
          ]
        },
        {
          "name": "stderr",
          "output_type": "stream",
          "text": [
            "Processing questions for llama 3.2 1B-instruct:  92%|█████████▎| 37/40 [00:23<00:01,  1.64it/s]"
          ]
        },
        {
          "name": "stdout",
          "output_type": "stream",
          "text": [
            " \n",
            "Response:\n",
            "{\n",
            "  \"question\": \"What's the median age of the NBA?\",\n",
            "  \"sql\": \"SELECT AVG(AGE) FROM nba_roster;\"\n",
            "}\n"
          ]
        },
        {
          "name": "stderr",
          "output_type": "stream",
          "text": [
            "Processing questions for llama 3.2 1B-instruct:  95%|█████████▌| 38/40 [00:24<00:01,  1.63it/s]"
          ]
        },
        {
          "name": "stdout",
          "output_type": "stream",
          "text": [
            " \n",
            "Response:\n",
            "{\n",
            "  \"question\": \"What's the median age of the Miami Heat?\",\n",
            "  \"sql\": \"SELECT AVG(AGE) FROM nba_roster WHERE TEAM = 'Miami Heat';\"\n",
            "}\n"
          ]
        },
        {
          "name": "stderr",
          "output_type": "stream",
          "text": [
            "Processing questions for llama 3.2 1B-instruct:  98%|█████████▊| 39/40 [00:25<00:00,  1.51it/s]"
          ]
        },
        {
          "name": "stdout",
          "output_type": "stream",
          "text": [
            "?\n",
            "Response:\n",
            "{\n",
            "  \"question\": \"What are the 5 teams with the oldest average age in the NBA?\",\n",
            "  \"sql\": \"SELECT AVG(AGE) AS avg_age FROM nba_roster GROUP BY TEAM ORDER BY avg_age DESC LIMIT 5;\"}\n"
          ]
        },
        {
          "name": "stderr",
          "output_type": "stream",
          "text": [
            "Processing questions for llama 3.2 1B-instruct: 100%|██████████| 40/40 [00:25<00:00,  1.54it/s]\n"
          ]
        },
        {
          "name": "stdout",
          "output_type": "stream",
          "text": [
            "?\n",
            "Response:\n",
            "{\n",
            "  \"question\": \"What is the average salary of Power Forward players in the NBA?\",\n",
            "  \"sql\": \"SELECT AVG(SALARY) FROM nba_roster WHERE POS = 'PF'\"\n",
            "}\n"
          ]
        },
        {
          "name": "stderr",
          "output_type": "stream",
          "text": [
            "Processing questions for llama 3.2 3B-instruct:   2%|▎         | 1/40 [00:01<00:43,  1.11s/it]"
          ]
        },
        {
          "name": "stdout",
          "output_type": "stream",
          "text": [
            " \n",
            "{\n",
            "  \"question\": \"Who is the pointguard for the Golden State Warriors?\",\n",
            "  \"sql\": \"SELECT NAME FROM nba_roster WHERE TEAM = 'Golden State Warriors' AND POS = 'PG';\" }\n"
          ]
        },
        {
          "name": "stderr",
          "output_type": "stream",
          "text": [
            "Processing questions for llama 3.2 3B-instruct:   5%|▌         | 2/40 [00:02<00:46,  1.21s/it]"
          ]
        },
        {
          "name": "stdout",
          "output_type": "stream",
          "text": [
            "?\n",
            "Response:\n",
            "{\n",
            "  \"question\": \"What is the number of players on the Chicago Bulls who are 25 years old or younger?\",\n",
            "  \"sql\": \"SELECT COUNT(*) FROM nba_roster WHERE Team = 'Chicago Bulls' AND AGE < 25;\"\n",
            "}\n"
          ]
        },
        {
          "name": "stderr",
          "output_type": "stream",
          "text": [
            "Processing questions for llama 3.2 3B-instruct:   8%|▊         | 3/40 [00:03<00:44,  1.21s/it]"
          ]
        },
        {
          "name": "stdout",
          "output_type": "stream",
          "text": [
            "?\n",
            "{\n",
            "  \"question\": \"Who is the highest-paid player on the Los Angeles Lakers?\",\n",
            "  \"sql\": \"SELECT NAME, SALARY FROM nba_roster WHERE TEAM = 'Los Angeles Lakers' ORDER BY SALARY DESC LIMIT 1;\" }\n"
          ]
        },
        {
          "name": "stderr",
          "output_type": "stream",
          "text": [
            "Processing questions for llama 3.2 3B-instruct:  10%|█         | 4/40 [00:04<00:38,  1.07s/it]"
          ]
        },
        {
          "name": "stdout",
          "output_type": "stream",
          "text": [
            " \n",
            "{\n",
            "  \"question\": \"Who is the highest paid player in the NBA?\",\n",
            "  \"sql\": \"SELECT MAX(SALARY) FROM nba_roster;\"\n",
            "}\n"
          ]
        },
        {
          "name": "stderr",
          "output_type": "stream",
          "text": [
            "Processing questions for llama 3.2 3B-instruct:  12%|█▎        | 5/40 [00:05<00:35,  1.02s/it]"
          ]
        },
        {
          "name": "stdout",
          "output_type": "stream",
          "text": [
            " \n",
            "{\n",
            "  \"question\": \"What team is LaMelo Ball on?\",\n",
            "  \"sql\": \"SELECT Team FROM nba_roster WHERE NAME = 'LaMelo Ball';\" }\n"
          ]
        },
        {
          "name": "stderr",
          "output_type": "stream",
          "text": [
            "Processing questions for llama 3.2 3B-instruct:  15%|█▌        | 6/40 [00:06<00:34,  1.00s/it]"
          ]
        },
        {
          "name": "stdout",
          "output_type": "stream",
          "text": [
            " \n",
            "Response:\n",
            "{\n",
            "  \"question\": \"How much does Lonzo Ball weigh?\",\n",
            "  \"sql\": \"SELECT WT FROM nba_roster WHERE NAME = 'Lonzo Ball';\"\n",
            "}\n"
          ]
        },
        {
          "name": "stderr",
          "output_type": "stream",
          "text": [
            "Processing questions for llama 3.2 3B-instruct:  18%|█▊        | 7/40 [00:07<00:37,  1.13s/it]"
          ]
        },
        {
          "name": "stdout",
          "output_type": "stream",
          "text": [
            " (Return all players and their corresponding college)\n",
            "Response:\n",
            "{\n",
            "  \"question\": \"What college sent the most players to the current NBA? (Return all players and their corresponding college)\",\n",
            "  \"sql\": \"SELECT NAME, COLLEGE FROM nba_roster GROUP BY COLLEGE ORDER BY COUNT(NAME) DESC\n"
          ]
        },
        {
          "name": "stderr",
          "output_type": "stream",
          "text": [
            "Processing questions for llama 3.2 3B-instruct:  20%|██        | 8/40 [00:08<00:33,  1.05s/it]"
          ]
        },
        {
          "name": "stdout",
          "output_type": "stream",
          "text": [
            " \n",
            "{\n",
            "  \"question\": \"How old is Lebron James?\",\n",
            "  \"sql\": \"SELECT AGE FROM nba_roster WHERE NAME = 'Lebron James';\" }\n"
          ]
        },
        {
          "name": "stderr",
          "output_type": "stream",
          "text": [
            "Processing questions for llama 3.2 3B-instruct:  22%|██▎       | 9/40 [00:10<00:36,  1.16s/it]"
          ]
        },
        {
          "name": "stdout",
          "output_type": "stream",
          "text": [
            " \n",
            "{\n",
            "  \"question\": \"What is the most popular jersey number in the current NBA?\",\n",
            "  \"sql\": \"SELECT Jersey FROM nba_roster GROUP BY Jersey ORDER BY COUNT(*) DESC LIMIT 1;\" } \n",
            "{ \n",
            "  \"question\": \"What is the most popular jersey number in the current NBA\n"
          ]
        },
        {
          "name": "stderr",
          "output_type": "stream",
          "text": [
            "Processing questions for llama 3.2 3B-instruct:  25%|██▌       | 10/40 [00:11<00:33,  1.11s/it]"
          ]
        },
        {
          "name": "stdout",
          "output_type": "stream",
          "text": [
            " \n",
            "Response:\n",
            "{\n",
            "  \"question\": \"Can you give me a list of all the players without college data?\",\n",
            "  \"sql\": \"SELECT * FROM nba_roster WHERE COLLEGE IS NULL;\"\n",
            "}\n"
          ]
        },
        {
          "name": "stderr",
          "output_type": "stream",
          "text": [
            "Processing questions for llama 3.2 3B-instruct:  28%|██▊       | 11/40 [00:12<00:31,  1.08s/it]"
          ]
        },
        {
          "name": "stdout",
          "output_type": "stream",
          "text": [
            " \n",
            "Response:\n",
            "{\n",
            "  \"question\": \"What team has the smallest roster?\",\n",
            "  \"sql\": \"SELECT Team, COUNT(*) as num FROM nba_roster GROUP BY Team ORDER BY num LIMIT 1;\"\n",
            "}\n"
          ]
        },
        {
          "name": "stderr",
          "output_type": "stream",
          "text": [
            "Processing questions for llama 3.2 3B-instruct:  30%|███       | 12/40 [00:13<00:30,  1.10s/it]"
          ]
        },
        {
          "name": "stdout",
          "output_type": "stream",
          "text": [
            " \n",
            "Response:\n",
            "{\n",
            "  \"question\": \"What team has the largest roster?\",\n",
            "  \"sql\": \"SELECT Team, COUNT(*) as total_players FROM nba_roster GROUP BY Team ORDER BY total_players DESC LIMIT 1;\"\n",
            "}\n"
          ]
        },
        {
          "name": "stderr",
          "output_type": "stream",
          "text": [
            "Processing questions for llama 3.2 3B-instruct:  32%|███▎      | 13/40 [00:14<00:32,  1.20s/it]"
          ]
        },
        {
          "name": "stdout",
          "output_type": "stream",
          "text": [
            " \n",
            "To calculate this, I want to calculate the total salary for each team and then find the team with the highest total salary. \n",
            "\n",
            "Response:\n",
            "{\n",
            "  \"question\": \"What team is paying its players the most in total? \",\n",
            "  \"sql\": \"SELECT Team, SUM(SALARY) AS total_salary FROM\n"
          ]
        },
        {
          "name": "stderr",
          "output_type": "stream",
          "text": [
            "Processing questions for llama 3.2 3B-instruct:  35%|███▌      | 14/40 [00:16<00:33,  1.29s/it]"
          ]
        },
        {
          "name": "stdout",
          "output_type": "stream",
          "text": [
            " \n",
            "{\n",
            "  \"question\": \"Which team is paying its players the least?\",\n",
            "  \"sql\": \"SELECT TEAM FROM nba_roster ORDER BY SALARY LIMIT 1;\" }{ \n",
            "  \"question\": \"Which team is paying its players the least?\",\n",
            "  \"sql\": \"SELECT TEAM FROM nba_roster ORDER\n"
          ]
        },
        {
          "name": "stderr",
          "output_type": "stream",
          "text": [
            "Processing questions for llama 3.2 3B-instruct:  38%|███▊      | 15/40 [00:17<00:33,  1.34s/it]"
          ]
        },
        {
          "name": "stdout",
          "output_type": "stream",
          "text": [
            " \n",
            "To answer this question, I will need to:\n",
            "1. Group the players by team.\n",
            "2. Calculate the average height for each team.\n",
            "3. Find the team with the highest average height.\n",
            "\n",
            "Here is the SQL query to achieve this:\n",
            "```sql\n",
            "SELECT Team, AVG(T2.HT) AS avg_height\n",
            "FROM n\n"
          ]
        },
        {
          "name": "stderr",
          "output_type": "stream",
          "text": [
            "Processing questions for llama 3.2 3B-instruct:  40%|████      | 16/40 [00:19<00:33,  1.38s/it]"
          ]
        },
        {
          "name": "stdout",
          "output_type": "stream",
          "text": [
            " \n",
            "To answer this question, I need to find the team with the lowest average height of its players. \n",
            "\n",
            "{\n",
            "  \"question\": \"Which team is on average the shortest?\",\n",
            "  \"sql\": \"SELECT T1.Team, AVG(T2.HT) AS avg_height FROM nba_roster T1 LEFT JOIN (SELECT Team\n"
          ]
        },
        {
          "name": "stderr",
          "output_type": "stream",
          "text": [
            "Processing questions for llama 3.2 3B-instruct:  42%|████▎     | 17/40 [00:20<00:31,  1.39s/it]"
          ]
        },
        {
          "name": "stdout",
          "output_type": "stream",
          "text": [
            " \n",
            "{\n",
            "  \"question\": \"Who are the tallest 5 centers in the league?\",\n",
            "  \"sql\": \"SELECT NAME, HT FROM nba_roster WHERE POS = 'C' ORDER BY CAST(REPLACE(SUBSTR(HT, INSTR(HT, \\'\\''), 1), \\'\\'', '')\n"
          ]
        },
        {
          "name": "stderr",
          "output_type": "stream",
          "text": [
            "Processing questions for llama 3.2 3B-instruct:  45%|████▌     | 18/40 [00:21<00:30,  1.38s/it]"
          ]
        },
        {
          "name": "stdout",
          "output_type": "stream",
          "text": [
            " \n",
            "{\n",
            "  \"question\": \"Who are the top 5 highest paid power forwards in the league?\",\n",
            "  \"sql\": \"SELECT NAME, SALARY FROM nba_roster WHERE POS = 'PF' ORDER BY SALARY DESC LIMIT 5;\" }{ \"question\": \"Who are the top\n"
          ]
        },
        {
          "name": "stderr",
          "output_type": "stream",
          "text": [
            "Processing questions for llama 3.2 3B-instruct:  48%|████▊     | 19/40 [00:23<00:29,  1.40s/it]"
          ]
        },
        {
          "name": "stdout",
          "output_type": "stream",
          "text": [
            " \n",
            "To answer this question, I need to calculate the salary of each player and then find the median of those salaries. \n",
            "\n",
            "{\n",
            "  \"question\": \"What is the median salary in the NBA?\",\n",
            "  \"sql\": \"SELECT SALARY FROM nba_roster; WITH median AS (SELECT AVG(SALARY) FROM n\n"
          ]
        },
        {
          "name": "stderr",
          "output_type": "stream",
          "text": [
            "Processing questions for llama 3.2 3B-instruct:  50%|█████     | 20/40 [00:24<00:28,  1.42s/it]"
          ]
        },
        {
          "name": "stdout",
          "output_type": "stream",
          "text": [
            " \n",
            "To calculate this, I need to know the total salary of all players and the total number of players. I need to group the SALARY column by the TEAM column, and then calculate the average salary for each team. To do this, I need to use a SQL query that groups the rows by the TEAM column, calculates\n"
          ]
        },
        {
          "name": "stderr",
          "output_type": "stream",
          "text": [
            "Processing questions for llama 3.2 3B-instruct:  52%|█████▎    | 21/40 [00:26<00:26,  1.42s/it]"
          ]
        },
        {
          "name": "stdout",
          "output_type": "stream",
          "text": [
            " \n",
            "{\n",
            "  \"question\": \"What is the 99th percentile salary in the NBA?\",\n",
            "  \"sql\": \"SELECT SALARY FROM nba_roster ORDER BY SALARY DESC LIMIT 1;\" } \n",
            "Note: The 99th percentile is the salary value below which 99% of the data points\n"
          ]
        },
        {
          "name": "stderr",
          "output_type": "stream",
          "text": [
            "Processing questions for llama 3.2 3B-instruct:  55%|█████▌    | 22/40 [00:27<00:25,  1.43s/it]"
          ]
        },
        {
          "name": "stdout",
          "output_type": "stream",
          "text": [
            " \n",
            "{\n",
            "  \"question\": \"What is the 75th percentile salary in the NBA?\",\n",
            "  \"sql\": \"SELECT SALARY FROM nba_roster ORDER BY SALARY DESC LIMIT 1;\" } \n",
            "Note: The 75th percentile salary is the salary at or above which 75% of the\n"
          ]
        },
        {
          "name": "stderr",
          "output_type": "stream",
          "text": [
            "Processing questions for llama 3.2 3B-instruct:  57%|█████▊    | 23/40 [00:28<00:24,  1.42s/it]"
          ]
        },
        {
          "name": "stdout",
          "output_type": "stream",
          "text": [
            " \n",
            "{\n",
            "  \"question\": \"What is the 25th percentile salary in the NBA?\",\n",
            "  \"sql\": \"SELECT SALARY FROM nba_roster ORDER BY SALARY LIMIT 1 OFFSET 24;\" }Note: The LIMIT 1 OFFSET 24 clause is used to find the 25th percentile\n"
          ]
        },
        {
          "name": "stderr",
          "output_type": "stream",
          "text": [
            "Processing questions for llama 3.2 3B-instruct:  60%|██████    | 24/40 [00:30<00:22,  1.43s/it]"
          ]
        },
        {
          "name": "stdout",
          "output_type": "stream",
          "text": [
            " \n",
            "To calculate the median weight, I need to know the weight of each player in the NBA roster. I need to convert the weight string to a numeric value first. \n",
            "\n",
            "{\n",
            "  \"question\": \"What is the median weight in the NBA?\",\n",
            "  \"sql\": \"SELECT CAST(REPLACE(trim(WT,'lbs'),\n"
          ]
        },
        {
          "name": "stderr",
          "output_type": "stream",
          "text": [
            "Processing questions for llama 3.2 3B-instruct:  62%|██████▎   | 25/40 [00:31<00:21,  1.45s/it]"
          ]
        },
        {
          "name": "stdout",
          "output_type": "stream",
          "text": [
            " \n",
            "To calculate the average weight, I need to first calculate the sum of all the weights and then divide by the number of rows in the table. Since I need to calculate the average, I will use the AVG() function in SQL. Here's the SQL query to calculate the average weight:\n",
            "SELECT AVG(WT) FROM n\n"
          ]
        },
        {
          "name": "stderr",
          "output_type": "stream",
          "text": [
            "Processing questions for llama 3.2 3B-instruct:  65%|██████▌   | 26/40 [00:33<00:20,  1.46s/it]"
          ]
        },
        {
          "name": "stdout",
          "output_type": "stream",
          "text": [
            " \n",
            "{\n",
            "  \"question\": \"What is the median height in the NBA?\",\n",
            "  \"sql\": \"SELECT AVG(STRFTIME('%I', SUBSTR(HT, 2))) AS median_height FROM nba_roster GROUP BY POS ORDER BY median_height DESC LIMIT 1;\" } \n",
            "Note: The STRFTIME\n"
          ]
        },
        {
          "name": "stderr",
          "output_type": "stream",
          "text": [
            "Processing questions for llama 3.2 3B-instruct:  68%|██████▊   | 27/40 [00:34<00:19,  1.48s/it]"
          ]
        },
        {
          "name": "stdout",
          "output_type": "stream",
          "text": [
            " \n",
            "{\n",
            "  \"question\": \"What is the average height in the NBA?\",\n",
            "  \"sql\": \"SELECT AVG(T2.HT) FROM nba_roster AS T1 INNER JOIN (SELECT HT FROM nba_roster) AS T2;\"\n",
            "} \n",
            "However, this query does not work. The correct query should be\n"
          ]
        },
        {
          "name": "stderr",
          "output_type": "stream",
          "text": [
            "Processing questions for llama 3.2 3B-instruct:  70%|███████   | 28/40 [00:35<00:15,  1.32s/it]"
          ]
        },
        {
          "name": "stdout",
          "output_type": "stream",
          "text": [
            " \n",
            "Response:\n",
            "{\n",
            "  \"question\": \"Can you tell me how many rows are in the table nba_roster?\",\n",
            "  \"sql\": \"SELECT COUNT(*) FROM nba_roster;\"\n",
            "}\n"
          ]
        },
        {
          "name": "stderr",
          "output_type": "stream",
          "text": [
            "Processing questions for llama 3.2 3B-instruct:  72%|███████▎  | 29/40 [00:37<00:14,  1.31s/it]"
          ]
        },
        {
          "name": "stdout",
          "output_type": "stream",
          "text": [
            " \n",
            "Response:\n",
            "{\n",
            "  \"question\": \"Would you please let me know what the highest paid players are for each position?\",\n",
            "  \"sql\": \"SELECT NAME, POS, SALARY FROM nba_roster GROUP BY POS ORDER BY MAX(SALARY) LIMIT 1;\"\n",
            "}\n"
          ]
        },
        {
          "name": "stderr",
          "output_type": "stream",
          "text": [
            "Processing questions for llama 3.2 3B-instruct:  75%|███████▌  | 30/40 [00:38<00:11,  1.20s/it]"
          ]
        },
        {
          "name": "stdout",
          "output_type": "stream",
          "text": [
            " \n",
            "Response:\n",
            "{\n",
            "  \"question\": \"Is Jalen Johnson 23 years old?\",\n",
            "  \"sql\": \"SELECT AGE FROM nba_roster WHERE NAME = 'Jalen Johnson';\"\n",
            "}\n"
          ]
        },
        {
          "name": "stderr",
          "output_type": "stream",
          "text": [
            "Processing questions for llama 3.2 3B-instruct:  78%|███████▊  | 31/40 [00:39<00:11,  1.27s/it]"
          ]
        },
        {
          "name": "stdout",
          "output_type": "stream",
          "text": [
            " \n",
            "{\n",
            "  \"question\": \"Who is the oldest player on the Brooklyn Nets?\",\n",
            "  \"sql\": \"SELECT MAX(AGE) FROM nba_roster WHERE Team = 'Brooklyn Nets';\" } \n",
            "{ \n",
            "  \"question\": \"Who is the oldest player on the Brooklyn Nets?\",\n",
            "  \"sql\": \"\n"
          ]
        },
        {
          "name": "stderr",
          "output_type": "stream",
          "text": [
            "Processing questions for llama 3.2 3B-instruct:  80%|████████  | 32/40 [00:40<00:10,  1.31s/it]"
          ]
        },
        {
          "name": "stdout",
          "output_type": "stream",
          "text": [
            " \n",
            "{\n",
            "  \"question\": \"Who has the higest salary on the Memphis Grizzlies?\", \n",
            "  \"sql\": \"SELECT MAX(SALARY) FROM nba_roster WHERE Team = 'Memphis Grizzlies';\" } \n",
            "{ \n",
            "  \"question\": \"Who has the highest salary on the Memphis\n"
          ]
        },
        {
          "name": "stderr",
          "output_type": "stream",
          "text": [
            "Processing questions for llama 3.2 3B-instruct:  82%|████████▎ | 33/40 [00:42<00:08,  1.27s/it]"
          ]
        },
        {
          "name": "stdout",
          "output_type": "stream",
          "text": [
            " \n",
            "{\n",
            "  \"question\": \"Which player has the highest salary on the Cleveland Cavaliers?\",\n",
            "  \"sql\": \"SELECT NAME, SALARY FROM nba_roster WHERE Team = 'Cleveland Cavaliers' ORDER BY SALARY DESC LIMIT 1;\" }\n"
          ]
        },
        {
          "name": "stderr",
          "output_type": "stream",
          "text": [
            "Processing questions for llama 3.2 3B-instruct:  85%|████████▌ | 34/40 [00:43<00:07,  1.32s/it]"
          ]
        },
        {
          "name": "stdout",
          "output_type": "stream",
          "text": [
            " \n",
            "{\n",
            "  \"question\": \"Who is the highest paid center on the Dallas Mavericks?\", \n",
            "  \"sql\": \"SELECT NAME FROM nba_roster WHERE COLLEGE = 'UCLA' AND TEAM = 'Dallas Mavericks' ORDER BY SALARY DESC LIMIT 1;\" } \n",
            "{ \"question\": \"Who\n"
          ]
        },
        {
          "name": "stderr",
          "output_type": "stream",
          "text": [
            "Processing questions for llama 3.2 3B-instruct:  88%|████████▊ | 35/40 [00:45<00:06,  1.36s/it]"
          ]
        },
        {
          "name": "stdout",
          "output_type": "stream",
          "text": [
            " \n",
            "To: The player's name is \"Marcus Smart\", so we need to find the salary of the player with the name \"Marcus Smart\".\n",
            "We can do this by using the NAME column to filter the rows in the table.\n",
            "\n",
            "{\n",
            "  \"question\": \"How much is Marcus Smart getting paid? \",\n",
            "  \"sql\": \"SELECT\n"
          ]
        },
        {
          "name": "stderr",
          "output_type": "stream",
          "text": [
            "Processing questions for llama 3.2 3B-instruct:  90%|█████████ | 36/40 [00:46<00:05,  1.43s/it]"
          ]
        },
        {
          "name": "stdout",
          "output_type": "stream",
          "text": [
            " \n",
            "{\n",
            "  \"question\": \"What's the average age of the Trail Blazers?\",\n",
            "  \"sql\": \"SELECT AVG(AGE) FROM nba_roster WHERE Team = 'Trail Blazers';\" } \n",
            "Note: The Team column contains the team name, not the team abbreviation. \n",
            "{ \n",
            "  \"question\": \"\n"
          ]
        },
        {
          "name": "stderr",
          "output_type": "stream",
          "text": [
            "Processing questions for llama 3.2 3B-instruct:  92%|█████████▎| 37/40 [00:47<00:03,  1.28s/it]"
          ]
        },
        {
          "name": "stdout",
          "output_type": "stream",
          "text": [
            " \n",
            "{\n",
            "  \"question\": \"What's the median age of the NBA?\",\n",
            "  \"sql\": \"SELECT AVG(AGE) FROM nba_roster;\"\n",
            "}\n"
          ]
        },
        {
          "name": "stderr",
          "output_type": "stream",
          "text": [
            "Processing questions for llama 3.2 3B-instruct:  95%|█████████▌| 38/40 [00:48<00:02,  1.27s/it]"
          ]
        },
        {
          "name": "stdout",
          "output_type": "stream",
          "text": [
            " team_name = \"Miami Heat\"\n",
            "Response:\n",
            "{\n",
            "  \"question\": \"What's the median age of the Miami Heat?\",\n",
            "  \"sql\": \"SELECT AVG(AGE) FROM nba_roster WHERE Team = 'Miami Heat';\" }\n"
          ]
        },
        {
          "name": "stderr",
          "output_type": "stream",
          "text": [
            "Processing questions for llama 3.2 3B-instruct:  98%|█████████▊| 39/40 [00:50<00:01,  1.30s/it]"
          ]
        },
        {
          "name": "stdout",
          "output_type": "stream",
          "text": [
            "?\n",
            "{\n",
            "  \"question\": \"What are the 5 teams with the oldest average age in the NBA?\",\n",
            "  \"sql\": \"SELECT Team, AVG(AGE) AS avg_age FROM nba_roster GROUP BY Team ORDER BY avg_age DESC LIMIT 5;\" }{ \"question\": \"What\n"
          ]
        },
        {
          "name": "stderr",
          "output_type": "stream",
          "text": [
            "Processing questions for llama 3.2 3B-instruct: 100%|██████████| 40/40 [00:51<00:00,  1.28s/it]"
          ]
        },
        {
          "name": "stdout",
          "output_type": "stream",
          "text": [
            "?\n",
            "{\n",
            "  \"question\": \"What is the average salary of Power Forward players in the NBA?\",\n",
            "  \"sql\": \"SELECT AVG(SALARY) FROM nba_roster WHERE POS = 'PF';\" }\n"
          ]
        },
        {
          "name": "stderr",
          "output_type": "stream",
          "text": [
            "\n"
          ]
        },
        {
          "data": {
            "image/png": "[encoded data removed]",
            "text/plain": [
              "<Figure size 1000x600 with 1 Axes>"
            ]
          },
          "metadata": {},
          "output_type": "display_data"
        },
        {
          "name": "stdout",
          "output_type": "stream",
          "text": [
            "Model Accuracy Scores: {'llama 3.2 1B-instruct': {'syntax': 77.5, 'semantics': 7.5}, 'llama 3.2 3B-instruct': {'syntax': 75.0, 'semantics': 15.0}}\n"
          ]
        }
      ],
      "source": [
        "accuracy_scores = pipeline_obj.run_pipeline()\n",
        "print(\"Model Accuracy Scores:\", accuracy_scores)"
      ]
    },
    {
      "cell_type": "markdown",
      "source": [
        "##Benchmarking Fine-tuned model"
      ],
      "metadata": {
        "id": "K0eKF-PguCPE"
      },
      "id": "K0eKF-PguCPE"
    },
    {
      "cell_type": "code",
      "execution_count": 13,
      "id": "51aa71e4-06fd-4fa8-b3ee-cf7cbee5e56f",
      "metadata": {
        "id": "51aa71e4-06fd-4fa8-b3ee-cf7cbee5e56f"
      },
      "outputs": [],
      "source": [
        "base_model_name = \"unsloth/Llama-3.2-3B-Instruct\"\n",
        "adapter_path = \"/content/drive/MyDrive/Capstone Project Model Weights/Model weights that work/best_model_r8_alpha8\"  # Replace with your path\n",
        "max_seq_length = 2048"
      ]
    },
    {
      "cell_type": "code",
      "source": [
        "# Load base model\n",
        "base_model, _ = FastLanguageModel.from_pretrained(\n",
        "    model_name=base_model_name,\n",
        "    max_seq_length=max_seq_length,\n",
        "    load_in_4bit=True,\n",
        ")\n",
        "\n",
        "# Load trained adapter\n",
        "model = PeftModel.from_pretrained(base_model, adapter_path)\n",
        "\n",
        "# Load tokenizer from saved directory\n",
        "tokenizer = AutoTokenizer.from_pretrained(adapter_path)"
      ],
      "metadata": {
        "id": "6ZO58oqXuXvj",
        "outputId": "196e3a16-6ba9-4b26-9095-02774789e30a",
        "colab": {
          "base_uri": "https://localhost:8080/"
        }
      },
      "id": "6ZO58oqXuXvj",
      "execution_count": 14,
      "outputs": [
        {
          "output_type": "stream",
          "name": "stdout",
          "text": [
            "==((====))==  Unsloth 2025.3.9: Fast Llama patching. Transformers: 4.48.3.\n",
            "   \\\\   /|    Tesla T4. Num GPUs = 1. Max memory: 14.741 GB. Platform: Linux.\n",
            "O^O/ \\_/ \\    Torch: 2.6.0+cu124. CUDA: 7.5. CUDA Toolkit: 12.4. Triton: 3.2.0\n",
            "\\        /    Bfloat16 = FALSE. FA [Xformers = 0.0.29.post3. FA2 = False]\n",
            " \"-____-\"     Free license: http://github.com/unslothai/unsloth\n",
            "Unsloth: Fast downloading is enabled - ignore downloading bars which are red colored!\n"
          ]
        }
      ]
    },
    {
      "cell_type": "code",
      "source": [
        "question = \"What is the average age of all players in the NBA\"\n",
        "prompt_template = \"\"\"\n",
        "    You are a data analyst bot working with a database. The table nba_roster has the following columns and metadata:\n",
        "\n",
        "    Team: A string containing the team name (e.g., \"Atlanta Hawks\", \"Washington Wizards\").\n",
        "    NAME: A string containing the player's name (e.g., \"Saddiq Bey\", \"Corey Kispert\").\n",
        "    Jersey: A string containing the player's jersey number (e.g., \"1\", \"55\").\n",
        "    POS: A string containing the player's position (e.g., \"SF\", \"SG\", \"G\").\n",
        "    AGE: An integer containing the player's age (e.g., 23, 31).\n",
        "    HT: A string containing the player's height in feet and inches (e.g., \"6'6\", \"6'2\").\n",
        "    WT: A string containing the player's weight in pounds (e.g., \"180 lbs\", \"185 lbs\").\n",
        "    COLLEGE: A string containing the player's college name (e.g., \"Utah\", \"Toledo\").\n",
        "    SALARY: A string containing the player's salary, formatted with a dollar sign (e.g., \"$8,195,122\", \"$1,719,864\").\n",
        "\n",
        "    You must generate a response that is ONLY a JSON object. The JSON object must have exactly two keys: \"question\" and \"sql\".\n",
        "    DO NOT include any extra text, explanations, or commentary outside the JSON object. The JSON must begin with '{{' and end with '}}' and nothing else.\n",
        "\n",
        "    The output of your response is directly fed to another system, and no human is reading it. Providing anything other than JSON will cause the other system to crash.\n",
        "    Format your response as follows:\n",
        "    {{\n",
        "      \"question\": \"<The given question>\",\n",
        "      \"sql\": \"<The SQL query>\"\n",
        "    }}\n",
        "\n",
        "    Example:\n",
        "    Question: What are all the rows of the table in the database?\n",
        "    Response:\n",
        "    {{\n",
        "      \"question\": \"What are all the rows of the table in the database?\",\n",
        "      \"sql\": \"SELECT * FROM nba_roster;\"\n",
        "    }}\n",
        "\n",
        "    REMEMBER: DO NOT YAP. DO NOT PROVIDE ANYTHING OTHER THAN THE JSON.\n",
        "    Now, answer the following question:\n",
        "    Question: What is the average age of all players in the NBA\n",
        "    SQL:\n",
        "    \"\"\"\n",
        "FastLanguageModel.for_inference(model) # Enable native 2x faster inference\n",
        "formatted_prompt = prompt_template.format(question) + tokenizer.eos_token\n",
        "inputs = tokenizer(\n",
        "        formatted_prompt,\n",
        "        return_tensors=\"pt\",\n",
        "        padding=True,\n",
        "        truncation=True,\n",
        "        max_length=max_seq_length,\n",
        "    ).to(\"cuda\")\n",
        "text_streamer = TextStreamer(tokenizer)\n",
        "response = model.generate(**inputs, streamer = text_streamer, max_new_tokens = 64)"
      ],
      "metadata": {
        "id": "A0sFk5rpuhz4",
        "outputId": "4493606a-15c9-4706-c0cb-37e4f0ad5783",
        "colab": {
          "base_uri": "https://localhost:8080/"
        }
      },
      "id": "A0sFk5rpuhz4",
      "execution_count": 17,
      "outputs": [
        {
          "output_type": "stream",
          "name": "stdout",
          "text": [
            "<|begin_of_text|>\n",
            "    You are a data analyst bot working with a database. The table nba_roster has the following columns and metadata:\n",
            "\n",
            "    Team: A string containing the team name (e.g., \"Atlanta Hawks\", \"Washington Wizards\").\n",
            "    NAME: A string containing the player's name (e.g., \"Saddiq Bey\", \"Corey Kispert\").\n",
            "    Jersey: A string containing the player's jersey number (e.g., \"1\", \"55\").\n",
            "    POS: A string containing the player's position (e.g., \"SF\", \"SG\", \"G\").\n",
            "    AGE: An integer containing the player's age (e.g., 23, 31).\n",
            "    HT: A string containing the player's height in feet and inches (e.g., \"6'6\", \"6'2\").\n",
            "    WT: A string containing the player's weight in pounds (e.g., \"180 lbs\", \"185 lbs\").\n",
            "    COLLEGE: A string containing the player's college name (e.g., \"Utah\", \"Toledo\").\n",
            "    SALARY: A string containing the player's salary, formatted with a dollar sign (e.g., \"$8,195,122\", \"$1,719,864\").\n",
            "\n",
            "    You must generate a response that is ONLY a JSON object. The JSON object must have exactly two keys: \"question\" and \"sql\".\n",
            "    DO NOT include any extra text, explanations, or commentary outside the JSON object. The JSON must begin with '{' and end with '}' and nothing else.\n",
            "\n",
            "    The output of your response is directly fed to another system, and no human is reading it. Providing anything other than JSON will cause the other system to crash.\n",
            "    Format your response as follows:\n",
            "    {\n",
            "      \"question\": \"<The given question>\",\n",
            "      \"sql\": \"<The SQL query>\"\n",
            "    }\n",
            "\n",
            "    Example:\n",
            "    Question: What are all the rows of the table in the database?\n",
            "    Response:\n",
            "    {\n",
            "      \"question\": \"What are all the rows of the table in the database?\",\n",
            "      \"sql\": \"SELECT * FROM nba_roster;\"\n",
            "    }\n",
            "\n",
            "    REMEMBER: DO NOT YAP. DO NOT PROVIDE ANYTHING OTHER THAN THE JSON.\n",
            "    Now, answer the following question:\n",
            "    Question: What is the average age of all players in the NBA\n",
            "    SQL:\n",
            "    <|eot_id|><|start_header_id|>question: What is the average age of all players in the NBA\n",
            "     SELECT AVG(AGE) FROM nba_roster;<|eot_id|>\n"
          ]
        }
      ]
    },
    {
      "cell_type": "code",
      "source": [
        "#question = \"What is the average age of all players in the NBA\"\n",
        "#question = \"What are all the rows of the table in the database?\"\n",
        "\n",
        "questions = [\"What is the average age of all players in the NBA\",\"What are all the rows of the table in the database?\",\"How old is LeBron James?\",\"What are the names of all players on the Atlanta Hawks?\",\"What's the average age of the Trail Blazers?\"]\n",
        "#questions = [\"How old is Lebron James?\"]\n",
        "\n",
        "prompt_template = \"\"\"\n",
        "    You are a data analyst bot working with a database. The table nba_roster has the following columns and metadata:\n",
        "\n",
        "    Team: A string containing the team name (e.g., \"Atlanta Hawks\", \"Washington Wizards\").\n",
        "    NAME: A string containing the player's name (e.g., \"Saddiq Bey\", \"Corey Kispert\").\n",
        "    Jersey: A string containing the player's jersey number (e.g., \"1\", \"55\").\n",
        "    POS: A string containing the player's position (e.g., \"SF\", \"SG\", \"G\").\n",
        "    AGE: An integer containing the player's age (e.g., 23, 31).\n",
        "    HT: A string containing the player's height in feet and inches (e.g., \"6'6\", \"6'2\").\n",
        "    WT: A string containing the player's weight in pounds (e.g., \"180 lbs\", \"185 lbs\").\n",
        "    COLLEGE: A string containing the player's college name (e.g., \"Utah\", \"Toledo\").\n",
        "    SALARY: A string containing the player's salary, formatted with a dollar sign (e.g., \"$8,195,122\", \"$1,719,864\").\n",
        "\n",
        "    You must generate a response that is ONLY a JSON object. The JSON object must have exactly two keys: \"question\" and \"sql\".\n",
        "    DO NOT include any extra text, explanations, or commentary outside the JSON object. The JSON must begin with '{{' and end with '}}' and nothing else.\n",
        "\n",
        "    The output of your response is directly fed to another system, and no human is reading it. Providing anything other than JSON will cause the other system to crash.\n",
        "    Format your response as follows:\n",
        "    {{\n",
        "      \"question\": \"<The given question>\",\n",
        "      \"sql\": \"<The SQL query>\"\n",
        "    }}\n",
        "\n",
        "    Example:\n",
        "    Question: What are all the rows of the table in the database?\n",
        "    Response:\n",
        "    {{\n",
        "      \"question\": \"What are all the rows of the table in the database?\",\n",
        "      \"sql\": \"SELECT * FROM nba_roster;\"\n",
        "    }}\n",
        "\n",
        "    REMEMBER: DO NOT YAP. DO NOT PROVIDE ANYTHING OTHER THAN THE JSON.\n",
        "    In case of names like team name or Player name please use the exact case. If player name is aKsHAY then exactly use name = 'aKsHAY'\n",
        "    Now, answer the following question:\n",
        "    Question: {}\n",
        "    SQL:\n",
        "    \"\"\"\n",
        "  # Enable native 2x faster inference\n",
        "for question in questions:\n",
        "  formatted_prompt = prompt_template.format(question) + tokenizer.eos_token\n",
        "  inputs = tokenizer(\n",
        "      formatted_prompt,\n",
        "      return_tensors=\"pt\",\n",
        "      padding=True,\n",
        "      truncation=True,\n",
        "      max_length=2048,\n",
        "  ).to(\"cuda\")\n",
        "  FastLanguageModel.for_inference(model)\n",
        "  # Generate the response\n",
        "  response_ids = model.generate(**inputs,\n",
        "                                max_new_tokens=200,\n",
        "                                pad_token_id=tokenizer.eos_token_id,\n",
        "                                temperature=0.7,\n",
        "                                do_sample=True,\n",
        "                                )\n",
        "\n",
        "  # Decode the generated token IDs to text\n",
        "  generated_text = tokenizer.decode(response_ids[0], skip_special_tokens=False)\n",
        "  parts = generated_text.split('<|eot_id|>')\n",
        "  model_response = parts[1].strip() if len(parts) > 1 else generated_text.strip()\n",
        "  model_response = model_response.replace('<|start_header_id|>', '').strip()\n",
        "  matches = re.findall(r'(select.*?;)', model_response, re.IGNORECASE | re.DOTALL)\n",
        "  sql_str = matches[0].strip() if matches else ''\n",
        "  if sql_str:\n",
        "    sql_str = sql_str.replace('\\n', ' ')  # Remove newlines\n",
        "    sql_str = re.sub(r'\\s+', ' ', sql_str)  # Collapse whitespace\n",
        "    sql_str = sql_str.rstrip(';') + ';'  # Ensure single ending semicolon\n",
        "    sql_str = sql_str[0].upper() + sql_str[1:].lower()  # Standardize case\n",
        "  print(\"Extracted SQL:\", sql_str)\n"
      ],
      "metadata": {
        "id": "8O5Xw_jZxXGD",
        "outputId": "382e4a39-e22a-41fe-abdc-364faf111213",
        "colab": {
          "base_uri": "https://localhost:8080/"
        }
      },
      "id": "8O5Xw_jZxXGD",
      "execution_count": 124,
      "outputs": [
        {
          "output_type": "stream",
          "name": "stdout",
          "text": [
            "Extracted SQL: Select avg(age) from nba_roster;\n",
            "Extracted SQL: Select * from nba_roster;\n",
            "Extracted SQL: Select age from nba_roster where name = 'lebron james';\n",
            "Extracted SQL: Select name from nba_roster where team = 'atlanta hawks';\n",
            "Extracted SQL: Select avg(age) from nba_roster where team = 'trail blazers';\n"
          ]
        }
      ]
    },
    {
      "cell_type": "code",
      "source": [
        "engine = sqlite3.connect(\"/content/drive/MyDrive/Capstone Project Model Weights/SQLite Tables/nba_roster.db\")"
      ],
      "metadata": {
        "id": "lZfRUq2V_fzn"
      },
      "id": "lZfRUq2V_fzn",
      "execution_count": 135,
      "outputs": []
    },
    {
      "cell_type": "code",
      "source": [
        "query=\"\"\"select age from nba_roster where name='LeBron James';\"\"\"\n",
        "expected_result = pd.read_sql(query, con=engine)\n",
        "print(expected_result)"
      ],
      "metadata": {
        "id": "M5atjDA0EV2Y",
        "outputId": "83d742a7-a836-4d78-f076-75c47bffc48a",
        "colab": {
          "base_uri": "https://localhost:8080/"
        }
      },
      "id": "M5atjDA0EV2Y",
      "execution_count": 136,
      "outputs": [
        {
          "output_type": "stream",
          "name": "stdout",
          "text": [
            "   AGE\n",
            "0   38\n"
          ]
        }
      ]
    },
    {
      "cell_type": "code",
      "source": [
        "query=\"\"\"Select age from nba_roster where name = 'Lebron James';\"\"\"\n",
        "generated_result = pd.read_sql(query, con=engine)\n",
        "print(generated_result)"
      ],
      "metadata": {
        "id": "sTOmsLRkFQXg",
        "outputId": "f4a604a7-1cef-46ae-9f17-2379da8adfc0",
        "colab": {
          "base_uri": "https://localhost:8080/"
        }
      },
      "id": "sTOmsLRkFQXg",
      "execution_count": 137,
      "outputs": [
        {
          "output_type": "stream",
          "name": "stdout",
          "text": [
            "Empty DataFrame\n",
            "Columns: [AGE]\n",
            "Index: []\n"
          ]
        }
      ]
    },
    {
      "cell_type": "code",
      "source": [
        "try:\n",
        "    query=\"\"\"Select age from nba_roster where name = 'Lebron James';\"\"\"\n",
        "    generated_result = pd.read_sql(query, con=engine)\n",
        "    print(generated_result)\n",
        "except Exception as e:\n",
        "    print(\"An error occurred while executing the SQL query:\", e)"
      ],
      "metadata": {
        "id": "He4UgOmcOMVx",
        "outputId": "bcb4d3d3-571a-4ea0-8f6e-1baecdce4827",
        "colab": {
          "base_uri": "https://localhost:8080/"
        }
      },
      "id": "He4UgOmcOMVx",
      "execution_count": 140,
      "outputs": [
        {
          "output_type": "stream",
          "name": "stdout",
          "text": [
            "Empty DataFrame\n",
            "Columns: [AGE]\n",
            "Index: []\n"
          ]
        }
      ]
    },
    {
      "cell_type": "code",
      "source": [
        "expected_result.equals(generated_result)"
      ],
      "metadata": {
        "id": "UOIOnpqjEXNU",
        "outputId": "bd4a128c-7293-4912-fc33-8c09d1ddb148",
        "colab": {
          "base_uri": "https://localhost:8080/"
        }
      },
      "id": "UOIOnpqjEXNU",
      "execution_count": 108,
      "outputs": [
        {
          "output_type": "execute_result",
          "data": {
            "text/plain": [
              "False"
            ]
          },
          "metadata": {},
          "execution_count": 108
        }
      ]
    },
    {
      "cell_type": "code",
      "source": [
        "questions_file = \"/content/drive/MyDrive/Capstone Project Model Weights/gold-test-set-v2.jsonl\"\n",
        "with open(questions_file, \"r\") as f:\n",
        "   test_dataset = [json.loads(line) for line in f]"
      ],
      "metadata": {
        "id": "93oMt2anGn2f"
      },
      "id": "93oMt2anGn2f",
      "execution_count": 121,
      "outputs": []
    },
    {
      "cell_type": "code",
      "source": [
        "test_dataset[0]"
      ],
      "metadata": {
        "id": "mSHjCWMUG3Yr",
        "outputId": "e5a3d308-29f4-4f5f-f9f0-77419b7f2586",
        "colab": {
          "base_uri": "https://localhost:8080/"
        }
      },
      "id": "mSHjCWMUG3Yr",
      "execution_count": 128,
      "outputs": [
        {
          "output_type": "execute_result",
          "data": {
            "text/plain": [
              "{'question': 'Who is the pointguard for the Golden State Warriors?',\n",
              " 'answer': 'Stephen Curry, Chris Paul, and Cory Joseph',\n",
              " 'sql': \"select name from nba_roster where team='Golden State Warriors' and POS='PG';\"}"
            ]
          },
          "metadata": {},
          "execution_count": 128
        }
      ]
    },
    {
      "cell_type": "code",
      "source": [
        "semantic_accuracy = 0\n",
        "syntax_accuracy = 0\n",
        "logs = []\n",
        "for i in range(len(test_dataset)-35):\n",
        "  log = {}\n",
        "  log['question'] = test_dataset[i]['question']\n",
        "  log['sql'] = test_dataset[i]['sql']\n",
        "  expected_result = pd.read_sql(test_dataset[i]['sql'], con=engine)\n",
        "  log['expected_result'] = expected_result\n",
        "\n",
        "  # Getting Generated result\n",
        "  formatted_prompt = prompt_template.format(test_dataset[i]['question']) + tokenizer.eos_token\n",
        "  inputs = tokenizer(\n",
        "      formatted_prompt,\n",
        "      return_tensors=\"pt\",\n",
        "      padding=True,\n",
        "      truncation=True,\n",
        "      max_length=2048,\n",
        "  ).to(\"cuda\")\n",
        "  FastLanguageModel.for_inference(model)\n",
        "  response_ids = model.generate(**inputs,\n",
        "                                max_new_tokens=200,\n",
        "                                pad_token_id=tokenizer.eos_token_id,\n",
        "                                temperature=0.7,\n",
        "                                do_sample=True,\n",
        "                                )\n",
        "\n",
        "  # Decode the generated token IDs to text\n",
        "  generated_text = tokenizer.decode(response_ids[0], skip_special_tokens=False)\n",
        "  parts = generated_text.split('<|eot_id|>')\n",
        "  model_response = parts[1].strip() if len(parts) > 1 else generated_text.strip()\n",
        "  model_response = model_response.replace('<|start_header_id|>', '').strip()\n",
        "  matches = re.findall(r'(select.*?;)', model_response, re.IGNORECASE | re.DOTALL)\n",
        "  sql_str = matches[0].strip() if matches else ''\n",
        "  if sql_str:\n",
        "    sql_str = sql_str.replace('\\n', ' ')  # Remove newlines\n",
        "    sql_str = re.sub(r'\\s+', ' ', sql_str)  # Collapse whitespace\n",
        "    sql_str = sql_str.rstrip(';') + ';'  # Ensure single ending semicolon\n",
        "    sql_str = sql_str[0].upper() + sql_str[1:].lower()  # Standardize case\n",
        "  log['generated_sql'] = sql_str\n",
        "  try:\n",
        "    generated_result = pd.read_sql(sql_str, con=engine)\n",
        "    if expected_result.equals(generated_result):\n",
        "      semantic_accuracy += 1\n",
        "      syntax_accuracy += 1\n",
        "    else:\n",
        "      syntax_accuracy += 1\n",
        "    log['generated_result'] = generated_result\n",
        "\n",
        "  except Exception as e:\n",
        "    log['generated_result'] = \"ERROR\"\n",
        "  logs.append(log)\n",
        "\n",
        ""
      ],
      "metadata": {
        "id": "UKIoFo21MA55"
      },
      "id": "UKIoFo21MA55",
      "execution_count": 148,
      "outputs": []
    },
    {
      "cell_type": "code",
      "source": [
        "logs"
      ],
      "metadata": {
        "id": "AZ29PIhVM3B6",
        "outputId": "e35acdcc-8a02-4955-af0b-b1f5419ca294",
        "colab": {
          "base_uri": "https://localhost:8080/"
        }
      },
      "id": "AZ29PIhVM3B6",
      "execution_count": 149,
      "outputs": [
        {
          "output_type": "execute_result",
          "data": {
            "text/plain": [
              "[{'question': 'Who is the pointguard for the Golden State Warriors?',\n",
              "  'sql': \"select name from nba_roster where team='Golden State Warriors' and POS='PG';\",\n",
              "  'expected_result':             NAME\n",
              "  0  Stephen Curry\n",
              "  1    Cory Joseph\n",
              "  2     Chris Paul,\n",
              "  'generated_sql': 'Select name from nba_roster where pos = \\\\\"pg\\\\\" and team = \\\\\"golden state warriors\\\\\";',\n",
              "  'generated_result': 'ERROR'},\n",
              " {'question': 'What is the number of players on the Chicago Bulls who are 25 years old or younger',\n",
              "  'sql': \"SELECT COUNT(*) FROM nba_roster WHERE team='Chicago Bulls' AND AGE <= 25;\",\n",
              "  'expected_result':    COUNT(*)\n",
              "  0        10,\n",
              "  'generated_sql': \"Select count(*) from nba_roster where team = 'chicago bulls' and age < 25;\",\n",
              "  'generated_result':    count(*)\n",
              "  0         0},\n",
              " {'question': 'Who is the highest-paid player on the Los Angeles Lakers',\n",
              "  'sql': \"SELECT NAME, SALARY FROM nba_roster WHERE team='Los Angeles Lakers' ORDER BY CAST(REPLACE(REPLACE(SALARY, '$', ''), ',','') AS INTEGER) DESC LIMIT 1;\",\n",
              "  'expected_result':            NAME       SALARY\n",
              "  0  LeBron James  $47,607,350,\n",
              "  'generated_sql': \"Select name from nba_roster where salary = (select max(salary) from nba_roster) and team = 'los angeles lakers';\",\n",
              "  'generated_result': Empty DataFrame\n",
              "  Columns: [NAME]\n",
              "  Index: []},\n",
              " {'question': 'Who is the highest paid player in the NBA?',\n",
              "  'sql': \"SELECT NAME, salary FROM nba_roster WHERE SALARY!= '--' ORDER BY CAST(REPLACE(REPLACE(SALARY, '$', ''), ',','') AS INTEGER) DESC LIMIT 1;\",\n",
              "  'expected_result':             NAME       SALARY\n",
              "  0  Stephen Curry  $51,915,615,\n",
              "  'generated_sql': 'Select name, salary from nba_roster order by salary desc limit 1;',\n",
              "  'generated_result':             NAME SALARY\n",
              "  0  Trent Forrest     --},\n",
              " {'question': 'What team is LaMelo Ball on?',\n",
              "  'sql': \"select team from nba_roster where name='LaMelo Ball';\",\n",
              "  'expected_result':                 Team\n",
              "  0  Charlotte Hornets,\n",
              "  'generated_sql': \"Select team from nba_roster where name = 'lamelo ball';\",\n",
              "  'generated_result': Empty DataFrame\n",
              "  Columns: [Team]\n",
              "  Index: []}]"
            ]
          },
          "metadata": {},
          "execution_count": 149
        }
      ]
    },
    {
      "cell_type": "code",
      "source": [
        "print(syntax_accuracy,semantic_accuracy)"
      ],
      "metadata": {
        "id": "cQbSXp0GPjWA",
        "outputId": "baae6394-f107-47f7-9327-7cac18959fcd",
        "colab": {
          "base_uri": "https://localhost:8080/"
        }
      },
      "id": "cQbSXp0GPjWA",
      "execution_count": 152,
      "outputs": [
        {
          "output_type": "stream",
          "name": "stdout",
          "text": [
            "4 0\n"
          ]
        }
      ]
    },
    {
      "cell_type": "code",
      "source": [],
      "metadata": {
        "id": "fioB6qvzSA_q"
      },
      "id": "fioB6qvzSA_q",
      "execution_count": null,
      "outputs": []
    }
  ],
  "metadata": {
    "kernelspec": {
      "display_name": "Python 3",
      "name": "python3"
    },
    "language_info": {
      "codemirror_mode": {
        "name": "ipython",
        "version": 3
      },
      "file_extension": ".py",
      "mimetype": "text/x-python",
      "name": "python",
      "nbconvert_exporter": "python",
      "pygments_lexer": "ipython3",
      "version": "3.12.0"
    },
    "colab": {
      "provenance": [],
      "gpuType": "T4"
    },
    "accelerator": "GPU",
    "widgets": {
      "application/vnd.jupyter.widget-state+json": {}
    }
  },
  "nbformat": 4,
  "nbformat_minor": 5
}